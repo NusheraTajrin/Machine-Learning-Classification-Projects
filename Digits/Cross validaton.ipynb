{
 "cells": [
  {
   "cell_type": "code",
   "execution_count": 1,
   "id": "af509d7b-e4a9-4409-a466-aecd26cf3d48",
   "metadata": {},
   "outputs": [],
   "source": [
    "from sklearn.ensemble import RandomForestClassifier\n",
    "from sklearn.linear_model import LogisticRegression\n",
    "from sklearn.svm import SVC\n",
    "import numpy as np"
   ]
  },
  {
   "cell_type": "code",
   "execution_count": 2,
   "id": "dba97ee9-ed03-4b32-9728-76321679532e",
   "metadata": {},
   "outputs": [],
   "source": [
    "from sklearn.datasets import load_digits\n",
    "digits=load_digits()"
   ]
  },
  {
   "cell_type": "code",
   "execution_count": 3,
   "id": "e0bde6bb-deee-45b4-8b95-f37a3aecbdba",
   "metadata": {},
   "outputs": [],
   "source": [
    "X=digits.data\n",
    "y=digits.target"
   ]
  },
  {
   "cell_type": "code",
   "execution_count": 4,
   "id": "d5e5fcc2-ab32-467c-be5c-649913543e1c",
   "metadata": {},
   "outputs": [],
   "source": [
    "from sklearn.model_selection import StratifiedKFold\n",
    "kf = StratifiedKFold(n_splits=3)"
   ]
  },
  {
   "cell_type": "code",
   "execution_count": 5,
   "id": "9c608c11-e755-4083-9477-c382f5d9b031",
   "metadata": {},
   "outputs": [],
   "source": [
    "from sklearn.model_selection import cross_val_score"
   ]
  },
  {
   "cell_type": "code",
   "execution_count": 7,
   "id": "4c5a1ede-f74e-4a23-9767-6fa9b08d420e",
   "metadata": {},
   "outputs": [
    {
     "data": {
      "text/plain": [
       "array([0.91986644, 0.94156928, 0.91652755])"
      ]
     },
     "execution_count": 7,
     "metadata": {},
     "output_type": "execute_result"
    }
   ],
   "source": [
    "cross_val_score(LogisticRegression(max_iter=200),X,y,cv=kf)"
   ]
  },
  {
   "cell_type": "code",
   "execution_count": 10,
   "id": "59d3c9ac-024c-4721-9974-c8dcfe77ae8c",
   "metadata": {},
   "outputs": [
    {
     "data": {
      "text/plain": [
       "array([0.96494157, 0.97996661, 0.96494157])"
      ]
     },
     "execution_count": 10,
     "metadata": {},
     "output_type": "execute_result"
    }
   ],
   "source": [
    "cross_val_score(SVC(),X,y,cv=kf)"
   ]
  },
  {
   "cell_type": "code",
   "execution_count": 9,
   "id": "ea773586-2589-4f59-b49f-3581223e0c73",
   "metadata": {},
   "outputs": [
    {
     "data": {
      "text/plain": [
       "array([0.94323873, 0.95826377, 0.92821369])"
      ]
     },
     "execution_count": 9,
     "metadata": {},
     "output_type": "execute_result"
    }
   ],
   "source": [
    "cross_val_score(RandomForestClassifier(),X,y,cv=kf)"
   ]
  },
  {
   "cell_type": "code",
   "execution_count": null,
   "id": "3ef117ea-f06c-4585-aa1a-24f6f6b7a866",
   "metadata": {},
   "outputs": [],
   "source": []
  }
 ],
 "metadata": {
  "kernelspec": {
   "display_name": "Python 3 (ipykernel)",
   "language": "python",
   "name": "python3"
  },
  "language_info": {
   "codemirror_mode": {
    "name": "ipython",
    "version": 3
   },
   "file_extension": ".py",
   "mimetype": "text/x-python",
   "name": "python",
   "nbconvert_exporter": "python",
   "pygments_lexer": "ipython3",
   "version": "3.12.0"
  }
 },
 "nbformat": 4,
 "nbformat_minor": 5
}
